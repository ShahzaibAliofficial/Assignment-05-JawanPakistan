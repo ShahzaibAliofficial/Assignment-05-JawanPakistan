{
 "cells": [
  {
   "cell_type": "markdown",
   "id": "37900d0c-9282-46b1-9c3c-9a83cfc86f00",
   "metadata": {},
   "source": [
    "# Assignment # 05"
   ]
  },
  {
   "cell_type": "markdown",
   "id": "524fde12-4e83-4537-851f-46884f710f31",
   "metadata": {},
   "source": [
    "### Answer # 01:"
   ]
  },
  {
   "cell_type": "code",
   "execution_count": 38,
   "id": "9bf14e66-b002-4330-963b-84575ba53ec7",
   "metadata": {},
   "outputs": [
    {
     "name": "stdout",
     "output_type": "stream",
     "text": [
      "Name: Shahzaib Ali, ID: 12356, Department: HR\n",
      "Name: Ayesha, ID: 4564, Department: Finance\n",
      "Name: Rayan, ID: 87985, Department: IT\n"
     ]
    }
   ],
   "source": [
    "employees_record = [\n",
    "    (\"Shahzaib Ali\", 12356, \"HR\"),\n",
    "    (\"Ayesha\", 4564, \"Finance\"),\n",
    "    (\"Rayan\", 87985, \"IT\")\n",
    "]\n",
    "\n",
    "print(f\"Name: {employees_record[0][0]}, ID: {employees_record[0][1]}, Department: {employees_record[0][2]}\")\n",
    "print(f\"Name: {employees_record[1][0]}, ID: {employees_record[1][1]}, Department: {employees_record[1][2]}\")\n",
    "print(f\"Name: {employees_record[2][0]}, ID: {employees_record[2][1]}, Department: {employees_record[2][2]}\")\n"
   ]
  },
  {
   "cell_type": "markdown",
   "id": "1ca7b2f3-f5e2-46c2-bcf6-ba1df98db90f",
   "metadata": {},
   "source": [
    "### Answer # 02:"
   ]
  },
  {
   "cell_type": "code",
   "execution_count": 41,
   "id": "a33191b6-836f-49e6-b507-e11717a36d68",
   "metadata": {},
   "outputs": [
    {
     "name": "stdout",
     "output_type": "stream",
     "text": [
      "Item ID: 101, Description: Laptop, Quantity: 50\n",
      "Item ID: 102, Description: Smartphone, Quantity: 200\n",
      "Item ID: 103, Description: Headphones, Quantity: 150\n"
     ]
    }
   ],
   "source": [
    "inventory = [\n",
    "    (101, \"Laptop\", 50),\n",
    "    (102, \"Smartphone\", 200),\n",
    "    (103, \"Headphones\", 150)\n",
    "]\n",
    "\n",
    "print(f\"Item ID: {inventory[0][0]}, Description: {inventory[0][1]}, Quantity: {inventory[0][2]}\")\n",
    "print(f\"Item ID: {inventory[1][0]}, Description: {inventory[1][1]}, Quantity: {inventory[1][2]}\")\n",
    "print(f\"Item ID: {inventory[2][0]}, Description: {inventory[2][1]}, Quantity: {inventory[2][2]}\")"
   ]
  },
  {
   "cell_type": "markdown",
   "id": "05910212-9a98-47e9-9c1e-3f4e682f2094",
   "metadata": {},
   "source": [
    "### Answer # 03:"
   ]
  },
  {
   "cell_type": "code",
   "execution_count": 46,
   "id": "a1c88c22-9912-4d49-bdd3-d1c40d097f0b",
   "metadata": {},
   "outputs": [
    {
     "name": "stdout",
     "output_type": "stream",
     "text": [
      "Date: 2024-08-20, Time: 10:00 AM\n",
      "Date: 2024-08-21, Time: 02:00 PM\n",
      "Date: 2024-08-22, Time: 09:30 AM\n"
     ]
    }
   ],
   "source": [
    "scheduled_events = [\n",
    "    (\"2024-08-20\", \"10:00 AM\"),  \n",
    "    (\"2024-08-21\", \"02:00 PM\"),  \n",
    "    (\"2024-08-22\", \"09:30 AM\")   \n",
    "]\n",
    "\n",
    "print(f\"Date: {scheduled_events[0][0]}, Time: {scheduled_events[0][1]}\")\n",
    "print(f\"Date: {scheduled_events[1][0]}, Time: {scheduled_events[1][1]}\")\n",
    "print(f\"Date: {scheduled_events[2][0]}, Time: {scheduled_events[2][1]}\")"
   ]
  },
  {
   "cell_type": "markdown",
   "id": "c59be17e-743f-41f5-a2dc-28476279a8ca",
   "metadata": {},
   "source": [
    "### Answer # 04:"
   ]
  },
  {
   "cell_type": "code",
   "execution_count": 49,
   "id": "e2715002-10ca-48be-96bf-987d9f1b5664",
   "metadata": {},
   "outputs": [
    {
     "name": "stdout",
     "output_type": "stream",
     "text": [
      "HR Department, Employee ID 101: {'name': 'Shahzaib Ali', 'position': 'HR Manager'}\n",
      "HR Department, Employee ID 102: {'name': 'Ayesha Khan', 'position': 'Recruiter'}\n",
      "Finance Department, Employee ID 201: {'name': 'Rayan Malik', 'position': 'Finance Manager'}\n",
      "Finance Department, Employee ID 202: {'name': 'Sara Ahmed', 'position': 'Accountant'}\n",
      "IT Department, Employee ID 301: {'name': 'Zain Shah', 'position': 'IT Support Specialist'}\n",
      "IT Department, Employee ID 302: {'name': 'Amna Farooq', 'position': 'Software Engineer'}\n"
     ]
    }
   ],
   "source": [
    "company_employees = {\n",
    "    \"HR\": {\n",
    "        101: {\"name\": \"Shahzaib Ali\", \"position\": \"HR Manager\"},\n",
    "        102: {\"name\": \"Ayesha Khan\", \"position\": \"Recruiter\"}\n",
    "    },\n",
    "    \"Finance\": {\n",
    "        201: {\"name\": \"Rayan Malik\", \"position\": \"Finance Manager\"},\n",
    "        202: {\"name\": \"Sara Ahmed\", \"position\": \"Accountant\"}\n",
    "    },\n",
    "    \"IT\": {\n",
    "        301: {\"name\": \"Zain Shah\", \"position\": \"IT Support Specialist\"},\n",
    "        302: {\"name\": \"Amna Farooq\", \"position\": \"Software Engineer\"}\n",
    "    }\n",
    "}\n",
    "\n",
    "print(f\"HR Department, Employee ID 101: {company_employees['HR'][101]}\")\n",
    "print(f\"HR Department, Employee ID 102: {company_employees['HR'][102]}\")\n",
    "\n",
    "print(f\"Finance Department, Employee ID 201: {company_employees['Finance'][201]}\")\n",
    "print(f\"Finance Department, Employee ID 202: {company_employees['Finance'][202]}\")\n",
    "\n",
    "print(f\"IT Department, Employee ID 301: {company_employees['IT'][301]}\")\n",
    "print(f\"IT Department, Employee ID 302: {company_employees['IT'][302]}\")\n"
   ]
  },
  {
   "cell_type": "markdown",
   "id": "73787d97-f2f8-4c66-8f95-2f04d77acb6d",
   "metadata": {},
   "source": [
    "### Answer # 05:"
   ]
  },
  {
   "cell_type": "code",
   "execution_count": 52,
   "id": "52bd2280-0e77-4852-bf11-3f3f821347b0",
   "metadata": {},
   "outputs": [
    {
     "name": "stdout",
     "output_type": "stream",
     "text": [
      "Alice's Scores: {'Math': 95, 'English': 88, 'Science': 92}\n",
      "Bob's Scores: {'Math': 78, 'English': 82, 'Science': 85}\n",
      "Charlie's Scores: {'Math': 89, 'English': 91, 'Science': 87}\n",
      "David's Scores: Student not found\n"
     ]
    }
   ],
   "source": [
    "student_scores = {\n",
    "    \"Alice\": {\n",
    "        \"Math\": 95,\n",
    "        \"English\": 88,\n",
    "        \"Science\": 92\n",
    "    },\n",
    "    \"Bob\": {\n",
    "        \"Math\": 78,\n",
    "        \"English\": 82,\n",
    "        \"Science\": 85\n",
    "    },\n",
    "    \"Charlie\": {\n",
    "        \"Math\": 89,\n",
    "        \"English\": 91,\n",
    "        \"Science\": 87\n",
    "    }\n",
    "}\n",
    "\n",
    "def get_student_scores(name):\n",
    "    if name == \"Alice\":\n",
    "        return student_scores[\"Alice\"]\n",
    "    elif name == \"Bob\":\n",
    "        return student_scores[\"Bob\"]\n",
    "    elif name == \"Charlie\":\n",
    "        return student_scores[\"Charlie\"]\n",
    "    else:\n",
    "        return \"Student not found\"\n",
    "\n",
    "alice_scores = get_student_scores(\"Alice\")\n",
    "print(f\"Alice's Scores: {alice_scores}\")\n",
    "\n",
    "bob_scores = get_student_scores(\"Bob\")\n",
    "print(f\"Bob's Scores: {bob_scores}\")\n",
    "\n",
    "charlie_scores = get_student_scores(\"Charlie\")\n",
    "print(f\"Charlie's Scores: {charlie_scores}\")\n",
    "\n",
    "non_existent_scores = get_student_scores(\"David\")\n",
    "print(f\"David's Scores: {non_existent_scores}\")\n"
   ]
  },
  {
   "cell_type": "markdown",
   "id": "37bd474d-4723-41a8-9239-33ffe671ebd3",
   "metadata": {},
   "source": [
    "### Answer # 06:"
   ]
  },
  {
   "cell_type": "code",
   "execution_count": 55,
   "id": "2875c45b-a5b0-4a82-a059-4a3672878b43",
   "metadata": {},
   "outputs": [
    {
     "name": "stdout",
     "output_type": "stream",
     "text": [
      "Tasks for Project A: ['Task 1: Research', 'Task 2: Design', 'Task 3: Development']\n",
      "Tasks for Project B: ['Task 1: Planning', 'Task 2: Implementation', 'Task 3: Testing']\n",
      "Tasks for Project C: ['Task 1: Setup', 'Task 2: Execution', 'Task 3: Review']\n",
      "Tasks for Project X: Project not found\n"
     ]
    }
   ],
   "source": [
    "projects = {\n",
    "    \"Project A\": [\n",
    "        \"Task 1: Research\",\n",
    "        \"Task 2: Design\",\n",
    "        \"Task 3: Development\"\n",
    "    ],\n",
    "    \"Project B\": [\n",
    "        \"Task 1: Planning\",\n",
    "        \"Task 2: Implementation\",\n",
    "        \"Task 3: Testing\"\n",
    "    ],\n",
    "    \"Project C\": [\n",
    "        \"Task 1: Setup\",\n",
    "        \"Task 2: Execution\",\n",
    "        \"Task 3: Review\"\n",
    "    ]\n",
    "}\n",
    "\n",
    "def get_project_tasks(project_name):\n",
    "    return projects.get(project_name, \"Project not found\")\n",
    "\n",
    "project_a_tasks = get_project_tasks(\"Project A\")\n",
    "print(f\"Tasks for Project A: {project_a_tasks}\")\n",
    "\n",
    "project_b_tasks = get_project_tasks(\"Project B\")\n",
    "print(f\"Tasks for Project B: {project_b_tasks}\")\n",
    "\n",
    "project_c_tasks = get_project_tasks(\"Project C\")\n",
    "print(f\"Tasks for Project C: {project_c_tasks}\")\n",
    "\n",
    "non_existent_project_tasks = get_project_tasks(\"Project X\")\n",
    "print(f\"Tasks for Project X: {non_existent_project_tasks}\")\n"
   ]
  },
  {
   "cell_type": "markdown",
   "id": "f7dbbe84-2bed-4ed9-a262-cb204d623552",
   "metadata": {},
   "source": [
    "### Answer # 07:"
   ]
  },
  {
   "cell_type": "code",
   "execution_count": 58,
   "id": "ebf593c2-0c81-4f29-a08d-caa70425c343",
   "metadata": {},
   "outputs": [
    {
     "name": "stdout",
     "output_type": "stream",
     "text": [
      "Details of Module 1 in Python Programming: Basics of Python, syntax, and environment setup.\n",
      "Details of Module 2 in Web Development: JavaScript syntax, DOM manipulation, and event handling.\n",
      "Details of Module 3 in Data Science: Introduction to machine learning algorithms and their applications.\n",
      "Details of Module 4 in Python Programming: Module not found\n"
     ]
    }
   ],
   "source": [
    "training_program = {\n",
    "    \"Course 1: Python Programming\": {\n",
    "        \"Module 1: Introduction to Python\": \"Basics of Python, syntax, and environment setup.\",\n",
    "        \"Module 2: Data Structures\": \"Lists, tuples, dictionaries, and sets.\",\n",
    "        \"Module 3: Functions\": \"Defining and using functions, scope, and lambda functions.\"\n",
    "    },\n",
    "    \"Course 2: Web Development\": {\n",
    "        \"Module 1: HTML & CSS\": \"Basics of HTML and CSS for web design.\",\n",
    "        \"Module 2: JavaScript\": \"JavaScript syntax, DOM manipulation, and event handling.\",\n",
    "        \"Module 3: Backend Development\": \"Introduction to server-side programming with Node.js.\"\n",
    "    },\n",
    "    \"Course 3: Data Science\": {\n",
    "        \"Module 1: Data Analysis\": \"Using libraries like Pandas for data manipulation and analysis.\",\n",
    "        \"Module 2: Data Visualization\": \"Creating visualizations with Matplotlib and Seaborn.\",\n",
    "        \"Module 3: Machine Learning\": \"Introduction to machine learning algorithms and their applications.\"\n",
    "    }\n",
    "}\n",
    "\n",
    "def get_module_details(course_name, module_name):\n",
    "    course = training_program.get(course_name)\n",
    "    if course:\n",
    "        return course.get(module_name, \"Module not found\")\n",
    "    return \"Course not found\"\n",
    "\n",
    "module_details_1 = get_module_details(\"Course 1: Python Programming\", \"Module 1: Introduction to Python\")\n",
    "print(f\"Details of Module 1 in Python Programming: {module_details_1}\")\n",
    "\n",
    "module_details_2 = get_module_details(\"Course 2: Web Development\", \"Module 2: JavaScript\")\n",
    "print(f\"Details of Module 2 in Web Development: {module_details_2}\")\n",
    "\n",
    "module_details_3 = get_module_details(\"Course 3: Data Science\", \"Module 3: Machine Learning\")\n",
    "print(f\"Details of Module 3 in Data Science: {module_details_3}\")\n",
    "\n",
    "module_details_4 = get_module_details(\"Course 1: Python Programming\", \"Module 4: Advanced Python\")\n",
    "print(f\"Details of Module 4 in Python Programming: {module_details_4}\")\n"
   ]
  },
  {
   "cell_type": "markdown",
   "id": "83611d9b-470f-4a5d-8cbc-006b34c99359",
   "metadata": {},
   "source": [
    "### Answer # 08:"
   ]
  },
  {
   "cell_type": "code",
   "execution_count": 61,
   "id": "77aba855-55e2-4d06-af67-dba7299e3796",
   "metadata": {},
   "outputs": [
    {
     "name": "stdout",
     "output_type": "stream",
     "text": [
      "Products below $100: ['Mouse', 'Keyboard']\n"
     ]
    }
   ],
   "source": [
    "products = [\n",
    "    (\"Laptop\", 1200),\n",
    "    (\"Mouse\", 25),\n",
    "    (\"Keyboard\", 75),\n",
    "    (\"Headphones\", 150),\n",
    "    (\"Monitor\", 300)\n",
    "]\n",
    "\n",
    "price_threshold = 100\n",
    "\n",
    "affordable_products = [name for name, price in products if price < price_threshold]\n",
    "\n",
    "print(f\"Products below ${price_threshold}: {affordable_products}\")\n"
   ]
  },
  {
   "cell_type": "code",
   "execution_count": null,
   "id": "d773d2c4-3995-427a-881b-2ebb62777bc0",
   "metadata": {},
   "outputs": [],
   "source": []
  }
 ],
 "metadata": {
  "kernelspec": {
   "display_name": "Python 3 (ipykernel)",
   "language": "python",
   "name": "python3"
  },
  "language_info": {
   "codemirror_mode": {
    "name": "ipython",
    "version": 3
   },
   "file_extension": ".py",
   "mimetype": "text/x-python",
   "name": "python",
   "nbconvert_exporter": "python",
   "pygments_lexer": "ipython3",
   "version": "3.12.4"
  }
 },
 "nbformat": 4,
 "nbformat_minor": 5
}
